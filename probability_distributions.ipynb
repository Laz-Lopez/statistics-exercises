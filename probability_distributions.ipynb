{
 "cells": [
  {
   "cell_type": "code",
   "execution_count": 1,
   "id": "a1aeece9",
   "metadata": {},
   "outputs": [],
   "source": [
    "import matplotlib.pyplot as plt\n",
    "import numpy as np\n",
    "from scipy import stats\n",
    "import viz # curriculum viz example code\n",
    "\n",
    "np.random.seed(123)\n"
   ]
  },
  {
   "cell_type": "code",
   "execution_count": 2,
   "id": "38e5cfeb",
   "metadata": {},
   "outputs": [],
   "source": [
    "die_distribution = stats.randint(1, 7)\n"
   ]
  },
  {
   "cell_type": "code",
   "execution_count": 3,
   "id": "5248ce1c",
   "metadata": {},
   "outputs": [
    {
     "data": {
      "text/plain": [
       "6"
      ]
     },
     "execution_count": 3,
     "metadata": {},
     "output_type": "execute_result"
    }
   ],
   "source": [
    "die_distribution.rvs()\n"
   ]
  },
  {
   "cell_type": "code",
   "execution_count": 4,
   "id": "d72ffe6a",
   "metadata": {},
   "outputs": [
    {
     "data": {
      "text/plain": [
       "Text(0.5, 1.0, 'Outcome of 10,000 Dice Rolls')"
      ]
     },
     "execution_count": 4,
     "metadata": {},
     "output_type": "execute_result"
    },
    {
     "data": {
      "image/png": "[encoded data removed]",
      "text/plain": [
       "<Figure size 648x432 with 1 Axes>"
      ]
     },
     "metadata": {
      "needs_background": "light"
     },
     "output_type": "display_data"
    }
   ],
   "source": [
    "n = 10_000\n",
    "\n",
    "x = die_distribution.rvs(n)\n",
    "\n",
    "plt.hist(x, bins=range(0, 9), align='left', width=1, edgecolor='black')\n",
    "plt.title(f'Outcome of {n:,} Dice Rolls')\n"
   ]
  },
  {
   "cell_type": "code",
   "execution_count": 5,
   "id": "40c2a255",
   "metadata": {},
   "outputs": [
    {
     "data": {
      "text/plain": [
       "0.16666666666666666"
      ]
     },
     "execution_count": 5,
     "metadata": {},
     "output_type": "execute_result"
    }
   ],
   "source": [
    "die_distribution.pmf(3)\n"
   ]
  },
  {
   "cell_type": "code",
   "execution_count": 6,
   "id": "f6f58e1f",
   "metadata": {},
   "outputs": [
    {
     "data": {
      "text/plain": [
       "array([0.16666667, 0.16666667, 0.16666667])"
      ]
     },
     "execution_count": 6,
     "metadata": {},
     "output_type": "execute_result"
    }
   ],
   "source": [
    "die_distribution.pmf([1, 2, 3])\n"
   ]
  },
  {
   "cell_type": "code",
   "execution_count": 7,
   "id": "34884d46",
   "metadata": {},
   "outputs": [
    {
     "data": {
      "text/plain": [
       "0.5"
      ]
     },
     "execution_count": 7,
     "metadata": {},
     "output_type": "execute_result"
    }
   ],
   "source": [
    "die_distribution.cdf(3)\n"
   ]
  },
  {
   "cell_type": "code",
   "execution_count": 8,
   "id": "158f35db",
   "metadata": {},
   "outputs": [
    {
     "data": {
      "text/plain": [
       "0.5"
      ]
     },
     "execution_count": 8,
     "metadata": {},
     "output_type": "execute_result"
    }
   ],
   "source": [
    "die_distribution.cdf(3)\n"
   ]
  },
  {
   "cell_type": "code",
   "execution_count": 9,
   "id": "a5d90916",
   "metadata": {},
   "outputs": [
    {
     "data": {
      "text/plain": [
       "5.0"
      ]
     },
     "execution_count": 9,
     "metadata": {},
     "output_type": "execute_result"
    }
   ],
   "source": [
    "die_distribution.ppf(5/6)\n"
   ]
  },
  {
   "cell_type": "code",
   "execution_count": 10,
   "id": "38bbad1a",
   "metadata": {},
   "outputs": [
    {
     "data": {
      "text/plain": [
       "0.33333333333333337"
      ]
     },
     "execution_count": 10,
     "metadata": {},
     "output_type": "execute_result"
    }
   ],
   "source": [
    "die_distribution.sf(4)\n"
   ]
  },
  {
   "cell_type": "code",
   "execution_count": 11,
   "id": "a94d5cf0",
   "metadata": {},
   "outputs": [
    {
     "data": {
      "text/plain": [
       "4.0"
      ]
     },
     "execution_count": 11,
     "metadata": {},
     "output_type": "execute_result"
    }
   ],
   "source": [
    "die_distribution.isf(1/3)\n"
   ]
  },
  {
   "cell_type": "code",
   "execution_count": 12,
   "id": "57a18539",
   "metadata": {},
   "outputs": [
    {
     "data": {
      "text/plain": [
       "0.10572812269266013"
      ]
     },
     "execution_count": 12,
     "metadata": {},
     "output_type": "execute_result"
    }
   ],
   "source": [
    "stats.binom(30, .25).sf(10)\n"
   ]
  },
  {
   "cell_type": "code",
   "execution_count": 13,
   "id": "97f5b2a6",
   "metadata": {},
   "outputs": [
    {
     "data": {
      "text/plain": [
       "0.3584859224085419"
      ]
     },
     "execution_count": 13,
     "metadata": {},
     "output_type": "execute_result"
    }
   ],
   "source": [
    "stats.binom(20, .05).pmf(0)\n"
   ]
  },
  {
   "cell_type": "code",
   "execution_count": 14,
   "id": "f3789262",
   "metadata": {},
   "outputs": [
    {
     "name": "stdout",
     "output_type": "stream",
     "text": [
      "$14,563.10\n"
     ]
    }
   ],
   "source": [
    "μ = 12000\n",
    "σ = 2000\n",
    "\n",
    "sales = stats.norm(μ, σ)\n",
    "\n",
    "top_10_percent_cutoff = sales.ppf(.9)\n",
    "\n",
    "print('${:,.2f}'.format(top_10_percent_cutoff))\n"
   ]
  },
  {
   "cell_type": "code",
   "execution_count": 15,
   "id": "97a94d8a",
   "metadata": {},
   "outputs": [
    {
     "name": "stdout",
     "output_type": "stream",
     "text": [
      "Ony any given day, there's a 15.9% chance we sell less than $10,000.\n"
     ]
    }
   ],
   "source": [
    "p = sales.cdf(10_000)\n",
    "\n",
    "print(f'Ony any given day, there\\'s a {p:.1%} chance we sell less than $10,000.')\n"
   ]
  },
  {
   "cell_type": "code",
   "execution_count": 16,
   "id": "badfba65",
   "metadata": {},
   "outputs": [
    {
     "data": {
      "text/plain": [
       "0.1403738958142805"
      ]
     },
     "execution_count": 16,
     "metadata": {},
     "output_type": "execute_result"
    }
   ],
   "source": [
    "stats.poisson(5).pmf(3)\n"
   ]
  },
  {
   "cell_type": "code",
   "execution_count": 17,
   "id": "e2e35394",
   "metadata": {},
   "outputs": [
    {
     "data": {
      "text/plain": [
       "0.13337167407000744"
      ]
     },
     "execution_count": 17,
     "metadata": {},
     "output_type": "execute_result"
    }
   ],
   "source": [
    "stats.poisson(5).sf(7)\n"
   ]
  },
  {
   "cell_type": "code",
   "execution_count": 19,
   "id": "02501b0a",
   "metadata": {},
   "outputs": [
    {
     "data": {
      "text/plain": [
       "<BarContainer object of 10 artists>"
      ]
     },
     "execution_count": 19,
     "metadata": {},
     "output_type": "execute_result"
    },
    {
     "data": {
      "image/png": "[encoded data removed]",
      "text/plain": [
       "<Figure size 648x432 with 1 Axes>"
      ]
     },
     "metadata": {
      "needs_background": "light"
     },
     "output_type": "display_data"
    }
   ],
   "source": [
    "# A bank found that the average number of cars waiting during the noon hour\n",
    "# at a drive-up window follows a Poisson distribution with a mean of 2 cars.\n",
    "# Make a chart of this distribution and answer these questions concerning \n",
    "# the probability of cars waiting at the drive-up window.\n",
    "\n",
    "# What is the probability that no cars drive up in the noon hour?\n",
    "\n",
    "λ = 2\n",
    "cars = stats.poisson(λ)\n",
    "\n",
    "x = np.arange(10)\n",
    "y = cars.pmf(x)\n",
    "plt.bar(x,y)\n"
   ]
  },
  {
   "cell_type": "code",
   "execution_count": 20,
   "id": "1620a159",
   "metadata": {},
   "outputs": [
    {
     "data": {
      "text/plain": [
       "0.1353352832366127"
      ]
     },
     "execution_count": 20,
     "metadata": {},
     "output_type": "execute_result"
    }
   ],
   "source": [
    "cars.pmf(0)\n"
   ]
  },
  {
   "cell_type": "code",
   "execution_count": 21,
   "id": "1d6c0493",
   "metadata": {},
   "outputs": [
    {
     "data": {
      "text/plain": [
       "0.32332358381693654"
      ]
     },
     "execution_count": 21,
     "metadata": {},
     "output_type": "execute_result"
    }
   ],
   "source": [
    "\n",
    "# What is the probability that 3 or more cars come through the drive through?\n",
    "cars.sf(2)"
   ]
  },
  {
   "cell_type": "code",
   "execution_count": 23,
   "id": "9d5fa950",
   "metadata": {},
   "outputs": [
    {
     "data": {
      "text/plain": [
       "0.40600584970983794"
      ]
     },
     "execution_count": 23,
     "metadata": {},
     "output_type": "execute_result"
    }
   ],
   "source": [
    "\n",
    "# How likely is it that the drive through gets at least 1 car?\n",
    "cars.cdf(1)\n"
   ]
  },
  {
   "cell_type": "code",
   "execution_count": 30,
   "id": "0a5892bf",
   "metadata": {},
   "outputs": [
    {
     "data": {
      "text/plain": [
       "3.4934560880854417"
      ]
     },
     "execution_count": 30,
     "metadata": {},
     "output_type": "execute_result"
    }
   ],
   "source": [
    "# Grades of State University graduates are normally distributed with a mean of 3.0 \n",
    "# and a standard deviation of .3. Calculate the following:\n",
    "\n",
    "# What grade point average is required to be in the top 5% of the graduating class?\n",
    "\n",
    "μ = 3.0\n",
    "σ = .3\n",
    "grades = stats.norm(μ, σ)\n",
    "grades.isf(0.05)\n"
   ]
  },
  {
   "cell_type": "code",
   "execution_count": 31,
   "id": "fd623b22",
   "metadata": {},
   "outputs": [
    {
     "data": {
      "text/plain": [
       "2.689069983151863"
      ]
     },
     "execution_count": 31,
     "metadata": {},
     "output_type": "execute_result"
    }
   ],
   "source": [
    "# What GPA constitutes the bottom 15% of the class?\n",
    "grades.isf(0.85)\n"
   ]
  },
  {
   "cell_type": "code",
   "execution_count": 33,
   "id": "3e01b873",
   "metadata": {},
   "outputs": [
    {
     "data": {
      "text/plain": [
       "2.842679846187588"
      ]
     },
     "execution_count": 33,
     "metadata": {},
     "output_type": "execute_result"
    }
   ],
   "source": [
    "# An eccentric alumnus left scholarship money for students in the third decile from the bottom of their class. \n",
    "grades.isf(0.70)"
   ]
  },
  {
   "cell_type": "code",
   "execution_count": 27,
   "id": "ac63cda2",
   "metadata": {},
   "outputs": [],
   "source": [
    "# Determine the range of the third decile. Would a student with a 2.8 grade point average qualify for this scholarship?\n",
    "possibly "
   ]
  },
  {
   "cell_type": "code",
   "execution_count": 37,
   "id": "8fe09a6d",
   "metadata": {},
   "outputs": [
    {
     "data": {
      "text/plain": [
       "0.3315904626424956"
      ]
     },
     "execution_count": 37,
     "metadata": {},
     "output_type": "execute_result"
    }
   ],
   "source": [
    "# If I have a GPA of 3.5, what percentile am I in?\n",
    "grades.pdf(3.5)"
   ]
  },
  {
   "cell_type": "code",
   "execution_count": 38,
   "id": "43b20aaa",
   "metadata": {},
   "outputs": [
    {
     "data": {
      "text/plain": [
       "0.13975823631416445"
      ]
     },
     "execution_count": 38,
     "metadata": {},
     "output_type": "execute_result"
    }
   ],
   "source": [
    "# A marketing website has an average click-through rate of 2%.\n",
    "# One day they observe 4326 visitors and 97 click-throughs.\n",
    "# How likely is it that this many people or more click through?\n",
    "click=.02\n",
    "visitors=4326\n",
    "rate=stats.binom(visitors,click)\n",
    "rate.sf(96)\n",
    "\n"
   ]
  },
  {
   "cell_type": "code",
   "execution_count": 48,
   "id": "0f0d76e2",
   "metadata": {},
   "outputs": [
    {
     "data": {
      "text/plain": [
       "nan"
      ]
     },
     "execution_count": 48,
     "metadata": {},
     "output_type": "execute_result"
    }
   ],
   "source": [
    "# You are working on some statistics homework consisting of 100 questions\n",
    "# where all of the answers are a probability rounded to the hundreths place. \n",
    "# Looking to save time, you put down random probabilities as the answer to each question.\n",
    "\n",
    "# What is the probability that at least one of your first 60 answers is correct?\n",
    "answers=.01\n",
    "visitors=100\n",
    "rate=stats.binom(visitors,click)\n",
    "rate.isf(60)\n"
   ]
  },
  {
   "cell_type": "code",
   "execution_count": null,
   "id": "28576f92",
   "metadata": {},
   "outputs": [],
   "source": [
    "\n",
    "# What is the probability that at least one of your first 60 answers is correct?\n",
    "# The codeup staff tends to get upset when the student break area is not cleaned up. Suppose that there's a 3% chance that any one student cleans the break area when they visit it, and, on any given day, about 90% of the 3 active cohorts of 22 students visit the break area. How likely is it that the break area gets cleaned up each day? How likely is it that it goes two days without getting cleaned up? All week?\n",
    "\n",
    "# You want to get lunch at La Panaderia, but notice that the line is usually very long at lunchtime. After several weeks of careful observation, you notice that the average number of people in line when your lunch break starts is normally distributed with a mean of 15 and standard deviation of 3. If it takes 2 minutes for each person to order, and 10 minutes from ordering to getting your food, what is the likelihood that you have at least 15 minutes left to eat your food before you have to go back to class? Assume you have one hour for lunch, and ignore travel time to and from La Panaderia.\n",
    "\n",
    "# Connect to the employees database and find the average salary of current employees, along with the standard deviation. For the following questions, calculate the answer based on modeling the employees salaries with a normal distribution defined by the calculated mean and standard deviation then compare this answer to the actual values present in the salaries dataset.\n",
    "\n",
    "# What percent of employees earn less than 60,000?\n",
    "# What percent of employees earn more than 95,000?\n",
    "# What percent of employees earn between 65,000 and 80,000?\n",
    "# What do the top 5% of employees make?"
   ]
  }
 ],
 "metadata": {
  "kernelspec": {
   "display_name": "Python 3 (ipykernel)",
   "language": "python",
   "name": "python3"
  },
  "language_info": {
   "codemirror_mode": {
    "name": "ipython",
    "version": 3
   },
   "file_extension": ".py",
   "mimetype": "text/x-python",
   "name": "python",
   "nbconvert_exporter": "python",
   "pygments_lexer": "ipython3",
   "version": "3.9.12"
  }
 },
 "nbformat": 4,
 "nbformat_minor": 5
}
