{
 "cells": [
  {
   "cell_type": "code",
   "execution_count": 5,
   "id": "85cdb390",
   "metadata": {},
   "outputs": [],
   "source": [
    "%matplotlib inline\n",
    "import numpy as np\n",
    "import pandas as pd\n",
    "\n",
    "import viz # curriculum example visualizations\n",
    "\n",
    "np.random.seed(29)\n"
   ]
  },
  {
   "cell_type": "code",
   "execution_count": 2,
   "id": "edfa683f",
   "metadata": {},
   "outputs": [
    {
     "data": {
      "text/plain": [
       "array([[6, 4, 5],\n",
       "       [6, 3, 1],\n",
       "       [1, 2, 2],\n",
       "       ...,\n",
       "       [6, 2, 1],\n",
       "       [3, 4, 3],\n",
       "       [4, 2, 4]])"
      ]
     },
     "execution_count": 2,
     "metadata": {},
     "output_type": "execute_result"
    }
   ],
   "source": [
    "n_trials = nrows = 10_000\n",
    "n_dice = ncols = 3\n",
    "\n",
    "rolls = np.random.choice([1, 2, 3, 4, 5, 6], n_trials * n_dice).reshape(nrows, ncols)\n",
    "rolls\n"
   ]
  },
  {
   "cell_type": "code",
   "execution_count": 3,
   "id": "a98e5e1b",
   "metadata": {},
   "outputs": [
    {
     "data": {
      "text/plain": [
       "array([15, 10,  5, ...,  9, 10, 10])"
      ]
     },
     "execution_count": 3,
     "metadata": {},
     "output_type": "execute_result"
    }
   ],
   "source": [
    "sums_by_trial = rolls.sum(axis=1)\n",
    "sums_by_trial\n"
   ]
  },
  {
   "cell_type": "code",
   "execution_count": 4,
   "id": "0556b46e",
   "metadata": {},
   "outputs": [
    {
     "data": {
      "image/png": "[encoded data removed]",
      "text/plain": [
       "<Figure size 648x432 with 1 Axes>"
      ]
     },
     "metadata": {
      "needs_background": "light"
     },
     "output_type": "display_data"
    }
   ],
   "source": [
    "viz.simulation_example1(sums_by_trial)\n"
   ]
  },
  {
   "cell_type": "code",
   "execution_count": 5,
   "id": "5d96a83f",
   "metadata": {},
   "outputs": [
    {
     "data": {
      "text/plain": [
       "array([ True, False, False, ..., False, False, False])"
      ]
     },
     "execution_count": 5,
     "metadata": {},
     "output_type": "execute_result"
    }
   ],
   "source": [
    "wins = sums_by_trial > 12\n",
    "wins\n"
   ]
  },
  {
   "cell_type": "code",
   "execution_count": 6,
   "id": "f4c5cb32",
   "metadata": {},
   "outputs": [
    {
     "data": {
      "text/plain": [
       "0.2633"
      ]
     },
     "execution_count": 6,
     "metadata": {},
     "output_type": "execute_result"
    }
   ],
   "source": [
    "win_rate = wins.astype(int).mean()\n",
    "win_rate\n"
   ]
  },
  {
   "cell_type": "code",
   "execution_count": 7,
   "id": "7cea3792",
   "metadata": {},
   "outputs": [
    {
     "data": {
      "text/plain": [
       "-1.0505000000000004"
      ]
     },
     "execution_count": 7,
     "metadata": {},
     "output_type": "execute_result"
    }
   ],
   "source": [
    "expected_winnings = win_rate * 15\n",
    "cost = 5\n",
    "expected_profit = expected_winnings - cost\n",
    "expected_profit\n"
   ]
  },
  {
   "cell_type": "code",
   "execution_count": 8,
   "id": "8f8969b3",
   "metadata": {},
   "outputs": [
    {
     "data": {
      "text/plain": [
       "0.5860000000000003"
      ]
     },
     "execution_count": 8,
     "metadata": {},
     "output_type": "execute_result"
    }
   ],
   "source": [
    "wins = sums_by_trial >= 12\n",
    "win_rate = wins.astype(int).mean()\n",
    "expected_winnings = win_rate * 15\n",
    "cost = 5\n",
    "expected_profit = expected_winnings - cost\n",
    "expected_profit\n"
   ]
  },
  {
   "cell_type": "code",
   "execution_count": 9,
   "id": "805fce1a",
   "metadata": {},
   "outputs": [],
   "source": [
    "p_nap = .3\n",
    "ndays = ncols = 2\n",
    "n_simulated_weekends = nrows = 10**5\n"
   ]
  },
  {
   "cell_type": "code",
   "execution_count": 10,
   "id": "314f9486",
   "metadata": {},
   "outputs": [
    {
     "data": {
      "text/plain": [
       "array([[0.46762045, 0.70078355],\n",
       "       [0.18897809, 0.54312897],\n",
       "       [0.253291  , 0.43836437],\n",
       "       ...,\n",
       "       [0.15008559, 0.37577491],\n",
       "       [0.34690321, 0.58934311],\n",
       "       [0.97135998, 0.57219933]])"
      ]
     },
     "execution_count": 10,
     "metadata": {},
     "output_type": "execute_result"
    }
   ],
   "source": [
    "data = np.random.random((nrows, ncols))\n",
    "data\n"
   ]
  },
  {
   "cell_type": "code",
   "execution_count": 11,
   "id": "83f596ad",
   "metadata": {},
   "outputs": [
    {
     "data": {
      "text/plain": [
       "array([[False, False],\n",
       "       [ True, False],\n",
       "       [ True, False],\n",
       "       ...,\n",
       "       [ True, False],\n",
       "       [False, False],\n",
       "       [False, False]])"
      ]
     },
     "execution_count": 11,
     "metadata": {},
     "output_type": "execute_result"
    }
   ],
   "source": [
    "naps = data < p_nap\n",
    "naps\n"
   ]
  },
  {
   "cell_type": "code",
   "execution_count": 12,
   "id": "b1239f49",
   "metadata": {},
   "outputs": [
    {
     "data": {
      "image/png": "[encoded data removed]",
      "text/plain": [
       "<Figure size 648x432 with 1 Axes>"
      ]
     },
     "metadata": {
      "needs_background": "light"
     },
     "output_type": "display_data"
    }
   ],
   "source": [
    "viz.simulation_example2(naps)\n"
   ]
  },
  {
   "cell_type": "code",
   "execution_count": 13,
   "id": "1b65c409",
   "metadata": {},
   "outputs": [
    {
     "data": {
      "text/plain": [
       "0.50998"
      ]
     },
     "execution_count": 13,
     "metadata": {},
     "output_type": "execute_result"
    }
   ],
   "source": [
    "(naps.sum(axis=1) >= 1).mean()\n"
   ]
  },
  {
   "cell_type": "code",
   "execution_count": 14,
   "id": "dd68b1d5",
   "metadata": {},
   "outputs": [
    {
     "data": {
      "text/plain": [
       "0.49002"
      ]
     },
     "execution_count": 14,
     "metadata": {},
     "output_type": "execute_result"
    }
   ],
   "source": [
    "(naps.sum(axis=1) == 0).mean()\n"
   ]
  },
  {
   "cell_type": "code",
   "execution_count": 15,
   "id": "66f91b6f",
   "metadata": {},
   "outputs": [
    {
     "data": {
      "text/plain": [
       "0.42324"
      ]
     },
     "execution_count": 15,
     "metadata": {},
     "output_type": "execute_result"
    }
   ],
   "source": [
    "n_simulations = nrows = 10**5\n",
    "n_dice_rolled = ncols = 3\n",
    "\n",
    "rolls = np.random.choice([1, 2, 3, 4, 5, 6], nrows * ncols).reshape(nrows, ncols)\n",
    "\n",
    "(pd.DataFrame(rolls)\n",
    " .apply(lambda row: 3 in row.values, axis=1)\n",
    " .mean())\n"
   ]
  },
  {
   "cell_type": "code",
   "execution_count": 21,
   "id": "c3810e9b",
   "metadata": {},
   "outputs": [
    {
     "data": {
      "text/plain": [
       "array([[1, 2],\n",
       "       [5, 6],\n",
       "       [2, 2],\n",
       "       ...,\n",
       "       [6, 1],\n",
       "       [3, 3],\n",
       "       [3, 3]])"
      ]
     },
     "execution_count": 21,
     "metadata": {},
     "output_type": "execute_result"
    }
   ],
   "source": [
    "# How likely is it that you roll doubles when rolling two dice?\n",
    "dice_face = [1,2,3,4,5,6]\n",
    "\n",
    "n_simulations = 10_000\n",
    "n_trials = 2\n",
    "\n",
    "dice_roll = np.random.choice(dice_face, (n_simulations, n_trials))\n",
    "dice_roll"
   ]
  },
  {
   "cell_type": "code",
   "execution_count": 45,
   "id": "6af25aaf",
   "metadata": {},
   "outputs": [
    {
     "data": {
      "text/plain": [
       "1"
      ]
     },
     "execution_count": 45,
     "metadata": {},
     "output_type": "execute_result"
    }
   ],
   "source": [
    "dice_roll[0,0]"
   ]
  },
  {
   "cell_type": "code",
   "execution_count": 73,
   "id": "4e8ae613",
   "metadata": {},
   "outputs": [
    {
     "data": {
      "text/plain": [
       "array([2, 6, 2, ..., 1, 3, 3])"
      ]
     },
     "execution_count": 73,
     "metadata": {},
     "output_type": "execute_result"
    }
   ],
   "source": [
    "dice_roll[...,1]"
   ]
  },
  {
   "cell_type": "code",
   "execution_count": 74,
   "id": "0377493f",
   "metadata": {},
   "outputs": [
    {
     "ename": "ValueError",
     "evalue": "The truth value of an array with more than one element is ambiguous. Use a.any() or a.all()",
     "output_type": "error",
     "traceback": [
      "\u001b[0;31m---------------------------------------------------------------------------\u001b[0m",
      "\u001b[0;31mValueError\u001b[0m                                Traceback (most recent call last)",
      "Input \u001b[0;32mIn [74]\u001b[0m, in \u001b[0;36m<cell line: 7>\u001b[0;34m()\u001b[0m\n\u001b[1;32m      4\u001b[0m         count_even \u001b[38;5;241m=\u001b[39m count_match\u001b[38;5;241m+\u001b[39m\u001b[38;5;241m1\u001b[39m\n\u001b[1;32m      5\u001b[0m     \u001b[38;5;28;01mreturn\u001b[39;00m count_match\n\u001b[0;32m----> 7\u001b[0m \u001b[43mdice_suck\u001b[49m\u001b[43m(\u001b[49m\u001b[43mdice_roll\u001b[49m\u001b[43m)\u001b[49m\n",
      "Input \u001b[0;32mIn [74]\u001b[0m, in \u001b[0;36mdice_suck\u001b[0;34m(dice_roll)\u001b[0m\n\u001b[1;32m      2\u001b[0m \u001b[38;5;28;01mdef\u001b[39;00m \u001b[38;5;21mdice_suck\u001b[39m(dice_roll):\n\u001b[0;32m----> 3\u001b[0m     \u001b[38;5;28;01mif\u001b[39;00m dice_roll[\u001b[38;5;241m.\u001b[39m\u001b[38;5;241m.\u001b[39m\u001b[38;5;241m.\u001b[39m,\u001b[38;5;241m0\u001b[39m] \u001b[38;5;241m==\u001b[39mdice_roll[\u001b[38;5;241m.\u001b[39m\u001b[38;5;241m.\u001b[39m\u001b[38;5;241m.\u001b[39m,\u001b[38;5;241m1\u001b[39m]:\n\u001b[1;32m      4\u001b[0m         count_even \u001b[38;5;241m=\u001b[39m count_match\u001b[38;5;241m+\u001b[39m\u001b[38;5;241m1\u001b[39m\n\u001b[1;32m      5\u001b[0m     \u001b[38;5;28;01mreturn\u001b[39;00m count_match\n",
      "\u001b[0;31mValueError\u001b[0m: The truth value of an array with more than one element is ambiguous. Use a.any() or a.all()"
     ]
    }
   ],
   "source": [
    "count_match=[]\n",
    "def dice_suck(dice_roll):\n",
    "    if dice_roll[...,0] ==dice_roll[...,1]:\n",
    "        count_even = count_match+1\n",
    "    return count_match\n",
    "\n",
    "dice_suck(dice_roll)"
   ]
  },
  {
   "cell_type": "code",
   "execution_count": 148,
   "id": "f5e2eef0",
   "metadata": {},
   "outputs": [
    {
     "data": {
      "text/plain": [
       "0    inf\n",
       "1    inf\n",
       "dtype: float64"
      ]
     },
     "execution_count": 148,
     "metadata": {},
     "output_type": "execute_result"
    }
   ],
   "source": [
    "n_trials = 10000\n",
    "n_dice = 2\n",
    "dice_rolls='1','2','3','4','5','6'\n",
    "rolls = np.random.choice(dice_rolls, (n_trials , n_dice)).reshape(n_trials,n_dice)\n",
    "rolls = pd.DataFrame(rolls)\n",
    "same=rolls[rolls[0] == rolls[1]]\n",
    "same.mean\n",
    "\n",
    "#len(same)/n_trials"
   ]
  },
  {
   "cell_type": "code",
   "execution_count": 149,
   "id": "8caa4d24",
   "metadata": {},
   "outputs": [
    {
     "data": {
      "text/plain": [
       "0.6442"
      ]
     },
     "execution_count": 149,
     "metadata": {},
     "output_type": "execute_result"
    }
   ],
   "source": [
    "# If you flip 8 coins, what is the probability of getting exactly 3 heads? \n",
    "n_trials = 10000\n",
    "n_coin = 8\n",
    "coin_sides=1,2\n",
    "flips = np.random.choice(coin_sides, (n_trials , n_coin)).reshape(n_trials,n_coin)\n",
    "flips = pd.DataFrame(flips)\n",
    "\n",
    "flips.sum(axis=1)\n",
    "\n",
    "(flips.sum(axis=1) > 11).mean()\n",
    "\n"
   ]
  },
  {
   "cell_type": "code",
   "execution_count": 116,
   "id": "d312523f",
   "metadata": {},
   "outputs": [
    {
     "data": {
      "text/plain": [
       "0.373"
      ]
     },
     "execution_count": 116,
     "metadata": {},
     "output_type": "execute_result"
    }
   ],
   "source": [
    "# What is the probability of getting more than 3 heads?\n",
    "\n",
    "(flips.sum(axis=1) >= 13).mean()"
   ]
  },
  {
   "cell_type": "code",
   "execution_count": 138,
   "id": "8da0d2ee",
   "metadata": {},
   "outputs": [
    {
     "data": {
      "text/plain": [
       "0    0.2495\n",
       "dtype: float64"
      ]
     },
     "execution_count": 138,
     "metadata": {},
     "output_type": "execute_result"
    }
   ],
   "source": [
    "# There are approximitely 3 web development cohorts for every 1 data science cohort at Codeup. \n",
    "# Assuming that Codeup randomly selects an alumni to put on a billboard, what are the odds that \n",
    "# the two billboards I drive past both have data science students on them?\n",
    "#1/4 or 25% \n",
    "\n",
    "n_trials = 10000\n",
    "n_coin = 1\n",
    "coin_sides='wd','wd', 'wd', 'ds'\n",
    "flips = np.random.choice(coin_sides, (n_trials , n_coin)).reshape(n_trials,n_coin)\n",
    "flips = pd.DataFrame(flips)\n",
    "\n",
    "\n",
    "\n",
    "flips\n",
    "head_count = (flips == 'ds').sum()\n",
    "\n",
    "\n",
    "head_count/n_trials\n"
   ]
  },
  {
   "cell_type": "code",
   "execution_count": 141,
   "id": "aa6cb97d",
   "metadata": {},
   "outputs": [
    {
     "name": "stdout",
     "output_type": "stream",
     "text": [
      "17.020531613907195\n"
     ]
    }
   ],
   "source": [
    "# Codeup students buy, on average, 3 poptart packages with a standard deviation of 1.5 \n",
    "# a day from the snack vending machine. If on monday the machine is restocked with 17\n",
    "# poptart packages, how likely is it that I will be able to buy some poptarts on Friday\n",
    "# afternoon? (Remember, if you have mean and standard deviation, use the np.random.normal) \n",
    "# You'll need to make a judgement call on how to handle some of your values\n",
    "\n",
    "\n",
    "pd.Series(np.random.normal(17, 4.5, size=10_000)).mean()\n",
    "print(pd.Series(np.random.normal(17, 4.5, size=10_000)).mean())"
   ]
  },
  {
   "cell_type": "code",
   "execution_count": 1,
   "id": "723f1a97",
   "metadata": {},
   "outputs": [],
   "source": [
    "\n",
    "# Compare Heights\n",
    "# Men have an average height of 178 cm and standard deviation of 8cm.\n",
    "# Women have a mean of 170, sd = 6cm.\n",
    "# Since you have means and standard deviations, you can use np.random.normal to generate \n",
    "\n",
    "men = 178\n",
    "men_sd = 8\n"
   ]
  },
  {
   "cell_type": "code",
   "execution_count": 3,
   "id": "cc0d13cf",
   "metadata": {},
   "outputs": [],
   "source": [
    "# observations. If a man and woman are chosen at random, what is the likelihood the woman \n",
    "# is taller than the man?\n",
    "women = 170\n",
    "women_sd = 6"
   ]
  },
  {
   "cell_type": "code",
   "execution_count": 7,
   "id": "a20327ee",
   "metadata": {},
   "outputs": [
    {
     "data": {
      "text/plain": [
       "0.21215"
      ]
     },
     "execution_count": 7,
     "metadata": {},
     "output_type": "execute_result"
    }
   ],
   "source": [
    "runs = 100_000\n",
    "men_observe = np.random.normal(men, men_sd, runs)\n",
    "women_observe = np.random.normal(women, women_sd, runs)\n",
    "(men_observe < women_observe).mean()"
   ]
  },
  {
   "cell_type": "code",
   "execution_count": 8,
   "id": "43b931d1",
   "metadata": {},
   "outputs": [
    {
     "data": {
      "text/plain": [
       "0.81745"
      ]
     },
     "execution_count": 8,
     "metadata": {},
     "output_type": "execute_result"
    }
   ],
   "source": [
    "# When installing anaconda on a student's computer, there's a 1 in 250 chance that the download\n",
    "# is corrupted and the installation fails. What are the odds that after having 50 students \n",
    "# download anaconda, no one has an installation issue? 100 students?\n",
    "\n",
    "runs = 100_000\n",
    "students = 50\n",
    "corrupted = 1/250\n",
    "\n",
    "installs = np.random.random((runs, students))\n",
    "fails = (installs < corrupted).sum(axis=1)\n",
    "(fails == 0).mean()\n",
    "\n",
    "\n"
   ]
  },
  {
   "cell_type": "code",
   "execution_count": 10,
   "id": "874e3f4c",
   "metadata": {},
   "outputs": [
    {
     "data": {
      "text/plain": [
       "0.66796"
      ]
     },
     "execution_count": 10,
     "metadata": {},
     "output_type": "execute_result"
    }
   ],
   "source": [
    "runs = 100_000\n",
    "students = 100\n",
    "corrupted = 1/250\n",
    "\n",
    "installs = np.random.random((runs, students))\n",
    "fails = (installs < corrupted).sum(axis=1)\n",
    "(fails == 0).mean()"
   ]
  },
  {
   "cell_type": "code",
   "execution_count": 9,
   "id": "819af0db",
   "metadata": {},
   "outputs": [
    {
     "data": {
      "text/plain": [
       "0.45146"
      ]
     },
     "execution_count": 9,
     "metadata": {},
     "output_type": "execute_result"
    }
   ],
   "source": [
    "# What is the probability that we observe an installation issue within the first \n",
    "# 150 students that download anaconda?\n",
    "runs = 100_000\n",
    "students = 150\n",
    "corrupted = 1/250\n",
    "\n",
    "installs = np.random.random((runs, students))\n",
    "fails = (installs < corrupted).sum(axis=1)\n",
    "(fails > 0).mean()\n"
   ]
  },
  {
   "cell_type": "code",
   "execution_count": 11,
   "id": "a4f386b8",
   "metadata": {},
   "outputs": [
    {
     "data": {
      "text/plain": [
       "0.16391"
      ]
     },
     "execution_count": 11,
     "metadata": {},
     "output_type": "execute_result"
    }
   ],
   "source": [
    "# How likely is it that 450 students all download anaconda without an issue?\n",
    "runs = 100_000\n",
    "students = 450\n",
    "corrupted = 1/250\n",
    "\n",
    "installs = np.random.random((runs, students))\n",
    "fails = (installs < corrupted).sum(axis=1)\n",
    "(fails == 0).mean()"
   ]
  },
  {
   "cell_type": "code",
   "execution_count": 13,
   "id": "96c18501",
   "metadata": {},
   "outputs": [
    {
     "data": {
      "text/plain": [
       "0.02754"
      ]
     },
     "execution_count": 13,
     "metadata": {},
     "output_type": "execute_result"
    }
   ],
   "source": [
    "# There's a 70% chance on any given day that there will be at least one food truck at \n",
    "# Travis Park. However, you haven't seen a food truck there in 3 days. How unlikely is this?\n",
    "runs = 100_000\n",
    "trucks = .7\n",
    "days = 3\n",
    "\n",
    "data = np.random.random((runs, days))\n",
    "no_truck = (data > trucks).sum(axis=1)\n",
    "(no_truck == 3).mean()\n",
    "\n"
   ]
  },
  {
   "cell_type": "code",
   "execution_count": 16,
   "id": "e1a523fb",
   "metadata": {},
   "outputs": [
    {
     "data": {
      "text/plain": [
       "0.99977"
      ]
     },
     "execution_count": 16,
     "metadata": {},
     "output_type": "execute_result"
    }
   ],
   "source": [
    "# How likely is it that a food truck will show up sometime this week?\n",
    "runs = 100_000\n",
    "trucks = .7\n",
    "days = 7\n",
    "\n",
    "data = np.random.random((runs, days))\n",
    "no_truck = (data > trucks).sum(axis=1)\n",
    "(no_truck <= 6).mean()"
   ]
  },
  {
   "cell_type": "code",
   "execution_count": 22,
   "id": "7a6b1a64",
   "metadata": {},
   "outputs": [
    {
     "data": {
      "text/plain": [
       "array([[284, 116, 196, ...,  73, 161,   0],\n",
       "       [321,  93, 177, ..., 137, 109, 161],\n",
       "       [ 40, 220,  25, ..., 227,  45,  65],\n",
       "       ...,\n",
       "       [199, 165, 112, ..., 351, 165, 283],\n",
       "       [155,  57, 222, ...,  49,  56, 301],\n",
       "       [ 46, 263, 312, ..., 191, 245,   5]])"
      ]
     },
     "execution_count": 22,
     "metadata": {},
     "output_type": "execute_result"
    }
   ],
   "source": [
    "# If 23 people are in the same room, what are the odds that two of them share a birthday? \n",
    "\n",
    "runs = 100_000\n",
    "outcome = range(366)\n",
    "people = 23\n",
    "birthdays = np.random.choice(outcome, size=(runs, people))\n",
    "birthdays"
   ]
  },
  {
   "cell_type": "code",
   "execution_count": 19,
   "id": "ea7c5ed3",
   "metadata": {},
   "outputs": [
    {
     "data": {
      "text/html": [
       "<div>\n",
       "<style scoped>\n",
       "    .dataframe tbody tr th:only-of-type {\n",
       "        vertical-align: middle;\n",
       "    }\n",
       "\n",
       "    .dataframe tbody tr th {\n",
       "        vertical-align: top;\n",
       "    }\n",
       "\n",
       "    .dataframe thead th {\n",
       "        text-align: right;\n",
       "    }\n",
       "</style>\n",
       "<table border=\"1\" class=\"dataframe\">\n",
       "  <thead>\n",
       "    <tr style=\"text-align: right;\">\n",
       "      <th></th>\n",
       "      <th>0</th>\n",
       "      <th>1</th>\n",
       "      <th>2</th>\n",
       "      <th>3</th>\n",
       "      <th>4</th>\n",
       "      <th>5</th>\n",
       "      <th>6</th>\n",
       "      <th>7</th>\n",
       "      <th>8</th>\n",
       "      <th>9</th>\n",
       "      <th>...</th>\n",
       "      <th>13</th>\n",
       "      <th>14</th>\n",
       "      <th>15</th>\n",
       "      <th>16</th>\n",
       "      <th>17</th>\n",
       "      <th>18</th>\n",
       "      <th>19</th>\n",
       "      <th>20</th>\n",
       "      <th>21</th>\n",
       "      <th>22</th>\n",
       "    </tr>\n",
       "  </thead>\n",
       "  <tbody>\n",
       "    <tr>\n",
       "      <th>0</th>\n",
       "      <td>24</td>\n",
       "      <td>82</td>\n",
       "      <td>123</td>\n",
       "      <td>179</td>\n",
       "      <td>145</td>\n",
       "      <td>95</td>\n",
       "      <td>110</td>\n",
       "      <td>33</td>\n",
       "      <td>257</td>\n",
       "      <td>46</td>\n",
       "      <td>...</td>\n",
       "      <td>236</td>\n",
       "      <td>335</td>\n",
       "      <td>291</td>\n",
       "      <td>253</td>\n",
       "      <td>254</td>\n",
       "      <td>148</td>\n",
       "      <td>228</td>\n",
       "      <td>228</td>\n",
       "      <td>159</td>\n",
       "      <td>215</td>\n",
       "    </tr>\n",
       "    <tr>\n",
       "      <th>1</th>\n",
       "      <td>228</td>\n",
       "      <td>43</td>\n",
       "      <td>320</td>\n",
       "      <td>131</td>\n",
       "      <td>286</td>\n",
       "      <td>338</td>\n",
       "      <td>32</td>\n",
       "      <td>62</td>\n",
       "      <td>98</td>\n",
       "      <td>52</td>\n",
       "      <td>...</td>\n",
       "      <td>42</td>\n",
       "      <td>201</td>\n",
       "      <td>14</td>\n",
       "      <td>214</td>\n",
       "      <td>328</td>\n",
       "      <td>224</td>\n",
       "      <td>137</td>\n",
       "      <td>62</td>\n",
       "      <td>211</td>\n",
       "      <td>147</td>\n",
       "    </tr>\n",
       "    <tr>\n",
       "      <th>2</th>\n",
       "      <td>196</td>\n",
       "      <td>48</td>\n",
       "      <td>94</td>\n",
       "      <td>32</td>\n",
       "      <td>278</td>\n",
       "      <td>194</td>\n",
       "      <td>235</td>\n",
       "      <td>13</td>\n",
       "      <td>0</td>\n",
       "      <td>332</td>\n",
       "      <td>...</td>\n",
       "      <td>27</td>\n",
       "      <td>276</td>\n",
       "      <td>328</td>\n",
       "      <td>43</td>\n",
       "      <td>188</td>\n",
       "      <td>50</td>\n",
       "      <td>138</td>\n",
       "      <td>334</td>\n",
       "      <td>328</td>\n",
       "      <td>339</td>\n",
       "    </tr>\n",
       "    <tr>\n",
       "      <th>3</th>\n",
       "      <td>299</td>\n",
       "      <td>107</td>\n",
       "      <td>12</td>\n",
       "      <td>157</td>\n",
       "      <td>170</td>\n",
       "      <td>14</td>\n",
       "      <td>53</td>\n",
       "      <td>6</td>\n",
       "      <td>340</td>\n",
       "      <td>363</td>\n",
       "      <td>...</td>\n",
       "      <td>29</td>\n",
       "      <td>172</td>\n",
       "      <td>315</td>\n",
       "      <td>212</td>\n",
       "      <td>95</td>\n",
       "      <td>93</td>\n",
       "      <td>153</td>\n",
       "      <td>36</td>\n",
       "      <td>216</td>\n",
       "      <td>272</td>\n",
       "    </tr>\n",
       "    <tr>\n",
       "      <th>4</th>\n",
       "      <td>7</td>\n",
       "      <td>258</td>\n",
       "      <td>16</td>\n",
       "      <td>49</td>\n",
       "      <td>359</td>\n",
       "      <td>128</td>\n",
       "      <td>202</td>\n",
       "      <td>363</td>\n",
       "      <td>254</td>\n",
       "      <td>13</td>\n",
       "      <td>...</td>\n",
       "      <td>337</td>\n",
       "      <td>127</td>\n",
       "      <td>267</td>\n",
       "      <td>100</td>\n",
       "      <td>243</td>\n",
       "      <td>219</td>\n",
       "      <td>69</td>\n",
       "      <td>61</td>\n",
       "      <td>165</td>\n",
       "      <td>100</td>\n",
       "    </tr>\n",
       "    <tr>\n",
       "      <th>...</th>\n",
       "      <td>...</td>\n",
       "      <td>...</td>\n",
       "      <td>...</td>\n",
       "      <td>...</td>\n",
       "      <td>...</td>\n",
       "      <td>...</td>\n",
       "      <td>...</td>\n",
       "      <td>...</td>\n",
       "      <td>...</td>\n",
       "      <td>...</td>\n",
       "      <td>...</td>\n",
       "      <td>...</td>\n",
       "      <td>...</td>\n",
       "      <td>...</td>\n",
       "      <td>...</td>\n",
       "      <td>...</td>\n",
       "      <td>...</td>\n",
       "      <td>...</td>\n",
       "      <td>...</td>\n",
       "      <td>...</td>\n",
       "      <td>...</td>\n",
       "    </tr>\n",
       "    <tr>\n",
       "      <th>99995</th>\n",
       "      <td>292</td>\n",
       "      <td>284</td>\n",
       "      <td>125</td>\n",
       "      <td>104</td>\n",
       "      <td>70</td>\n",
       "      <td>131</td>\n",
       "      <td>320</td>\n",
       "      <td>10</td>\n",
       "      <td>182</td>\n",
       "      <td>341</td>\n",
       "      <td>...</td>\n",
       "      <td>79</td>\n",
       "      <td>147</td>\n",
       "      <td>275</td>\n",
       "      <td>103</td>\n",
       "      <td>50</td>\n",
       "      <td>318</td>\n",
       "      <td>341</td>\n",
       "      <td>358</td>\n",
       "      <td>362</td>\n",
       "      <td>348</td>\n",
       "    </tr>\n",
       "    <tr>\n",
       "      <th>99996</th>\n",
       "      <td>95</td>\n",
       "      <td>352</td>\n",
       "      <td>141</td>\n",
       "      <td>157</td>\n",
       "      <td>202</td>\n",
       "      <td>306</td>\n",
       "      <td>275</td>\n",
       "      <td>9</td>\n",
       "      <td>356</td>\n",
       "      <td>310</td>\n",
       "      <td>...</td>\n",
       "      <td>37</td>\n",
       "      <td>336</td>\n",
       "      <td>210</td>\n",
       "      <td>42</td>\n",
       "      <td>100</td>\n",
       "      <td>270</td>\n",
       "      <td>208</td>\n",
       "      <td>203</td>\n",
       "      <td>275</td>\n",
       "      <td>140</td>\n",
       "    </tr>\n",
       "    <tr>\n",
       "      <th>99997</th>\n",
       "      <td>28</td>\n",
       "      <td>330</td>\n",
       "      <td>195</td>\n",
       "      <td>365</td>\n",
       "      <td>0</td>\n",
       "      <td>98</td>\n",
       "      <td>205</td>\n",
       "      <td>301</td>\n",
       "      <td>156</td>\n",
       "      <td>97</td>\n",
       "      <td>...</td>\n",
       "      <td>364</td>\n",
       "      <td>129</td>\n",
       "      <td>294</td>\n",
       "      <td>10</td>\n",
       "      <td>104</td>\n",
       "      <td>274</td>\n",
       "      <td>152</td>\n",
       "      <td>51</td>\n",
       "      <td>170</td>\n",
       "      <td>224</td>\n",
       "    </tr>\n",
       "    <tr>\n",
       "      <th>99998</th>\n",
       "      <td>90</td>\n",
       "      <td>186</td>\n",
       "      <td>266</td>\n",
       "      <td>87</td>\n",
       "      <td>149</td>\n",
       "      <td>122</td>\n",
       "      <td>226</td>\n",
       "      <td>71</td>\n",
       "      <td>103</td>\n",
       "      <td>202</td>\n",
       "      <td>...</td>\n",
       "      <td>168</td>\n",
       "      <td>229</td>\n",
       "      <td>112</td>\n",
       "      <td>258</td>\n",
       "      <td>14</td>\n",
       "      <td>327</td>\n",
       "      <td>217</td>\n",
       "      <td>3</td>\n",
       "      <td>245</td>\n",
       "      <td>192</td>\n",
       "    </tr>\n",
       "    <tr>\n",
       "      <th>99999</th>\n",
       "      <td>199</td>\n",
       "      <td>41</td>\n",
       "      <td>5</td>\n",
       "      <td>83</td>\n",
       "      <td>225</td>\n",
       "      <td>255</td>\n",
       "      <td>281</td>\n",
       "      <td>179</td>\n",
       "      <td>75</td>\n",
       "      <td>321</td>\n",
       "      <td>...</td>\n",
       "      <td>362</td>\n",
       "      <td>13</td>\n",
       "      <td>217</td>\n",
       "      <td>213</td>\n",
       "      <td>216</td>\n",
       "      <td>144</td>\n",
       "      <td>65</td>\n",
       "      <td>194</td>\n",
       "      <td>222</td>\n",
       "      <td>233</td>\n",
       "    </tr>\n",
       "  </tbody>\n",
       "</table>\n",
       "<p>100000 rows × 23 columns</p>\n",
       "</div>"
      ],
      "text/plain": [
       "        0    1    2    3    4    5    6    7    8    9   ...   13   14   15  \\\n",
       "0       24   82  123  179  145   95  110   33  257   46  ...  236  335  291   \n",
       "1      228   43  320  131  286  338   32   62   98   52  ...   42  201   14   \n",
       "2      196   48   94   32  278  194  235   13    0  332  ...   27  276  328   \n",
       "3      299  107   12  157  170   14   53    6  340  363  ...   29  172  315   \n",
       "4        7  258   16   49  359  128  202  363  254   13  ...  337  127  267   \n",
       "...    ...  ...  ...  ...  ...  ...  ...  ...  ...  ...  ...  ...  ...  ...   \n",
       "99995  292  284  125  104   70  131  320   10  182  341  ...   79  147  275   \n",
       "99996   95  352  141  157  202  306  275    9  356  310  ...   37  336  210   \n",
       "99997   28  330  195  365    0   98  205  301  156   97  ...  364  129  294   \n",
       "99998   90  186  266   87  149  122  226   71  103  202  ...  168  229  112   \n",
       "99999  199   41    5   83  225  255  281  179   75  321  ...  362   13  217   \n",
       "\n",
       "        16   17   18   19   20   21   22  \n",
       "0      253  254  148  228  228  159  215  \n",
       "1      214  328  224  137   62  211  147  \n",
       "2       43  188   50  138  334  328  339  \n",
       "3      212   95   93  153   36  216  272  \n",
       "4      100  243  219   69   61  165  100  \n",
       "...    ...  ...  ...  ...  ...  ...  ...  \n",
       "99995  103   50  318  341  358  362  348  \n",
       "99996   42  100  270  208  203  275  140  \n",
       "99997   10  104  274  152   51  170  224  \n",
       "99998  258   14  327  217    3  245  192  \n",
       "99999  213  216  144   65  194  222  233  \n",
       "\n",
       "[100000 rows x 23 columns]"
      ]
     },
     "execution_count": 19,
     "metadata": {},
     "output_type": "execute_result"
    }
   ],
   "source": [
    "birthdays = pd.DataFrame(birthdays)\n",
    "birthdays"
   ]
  },
  {
   "cell_type": "code",
   "execution_count": 21,
   "id": "4fce75f4",
   "metadata": {},
   "outputs": [
    {
     "data": {
      "text/plain": [
       "0.50786"
      ]
     },
     "execution_count": 21,
     "metadata": {},
     "output_type": "execute_result"
    }
   ],
   "source": [
    "(birthdays.nunique(axis=1) < 23).mean()\n"
   ]
  },
  {
   "cell_type": "code",
   "execution_count": 25,
   "id": "777a1079",
   "metadata": {},
   "outputs": [
    {
     "data": {
      "text/plain": [
       "0.41298"
      ]
     },
     "execution_count": 25,
     "metadata": {},
     "output_type": "execute_result"
    }
   ],
   "source": [
    "# What if it's 20 people? \n",
    "outcome = range(366)\n",
    "people = 20\n",
    "\n",
    "birthdays = np.random.choice(outcome, size=(runs, people))\n",
    "birthdays = pd.DataFrame(birthdays)\n",
    "\n",
    "(birthdays.nunique(axis=1) < people).mean()\n",
    "\n"
   ]
  },
  {
   "cell_type": "code",
   "execution_count": 27,
   "id": "12b7ca2f",
   "metadata": {},
   "outputs": [
    {
     "data": {
      "text/plain": [
       "0.8908"
      ]
     },
     "execution_count": 27,
     "metadata": {},
     "output_type": "execute_result"
    }
   ],
   "source": [
    "#40?\n",
    "outcome = range(366)\n",
    "people = 40\n",
    "\n",
    "birthdays = np.random.choice(outcome, size=(runs, people))\n",
    "birthdays = pd.DataFrame(birthdays)\n",
    "\n",
    "(birthdays.nunique(axis=1) < people).mean()"
   ]
  },
  {
   "cell_type": "code",
   "execution_count": null,
   "id": "b4cc6bdf",
   "metadata": {},
   "outputs": [],
   "source": []
  }
 ],
 "metadata": {
  "kernelspec": {
   "display_name": "Python 3 (ipykernel)",
   "language": "python",
   "name": "python3"
  },
  "language_info": {
   "codemirror_mode": {
    "name": "ipython",
    "version": 3
   },
   "file_extension": ".py",
   "mimetype": "text/x-python",
   "name": "python",
   "nbconvert_exporter": "python",
   "pygments_lexer": "ipython3",
   "version": "3.9.12"
  }
 },
 "nbformat": 4,
 "nbformat_minor": 5
}
