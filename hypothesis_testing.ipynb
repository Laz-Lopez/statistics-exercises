{
 "cells": [
  {
   "cell_type": "code",
   "execution_count": null,
   "id": "037c03a6",
   "metadata": {},
   "outputs": [],
   "source": [
    "# For each of the following questions, formulate a null and alternative hypothesis (be as specific as you can be), then give an example of what a true positive, true negative, type I and type II errors would look like. Note that some of the questions are intentionally phrased in a vague way. It is your job to reword these as more precise questions that could be tested.\n",
    "\n",
    "# Has the network latency gone up since we switched internet service providers? or are devices slower \n",
    "#have there been more drops in download, have upload/download times increased, has ping time increased \n"
   ]
  },
  {
   "cell_type": "code",
   "execution_count": null,
   "id": "320b4cd6",
   "metadata": {},
   "outputs": [],
   "source": [
    "# Is the website redesign any good?\n",
    "# has traffic increased? has traffic decreased? has there been ddos type activity, have we had more clicks per visit,\n",
    "#have we had more ad revenue, or less, has there been mroe contact via email "
   ]
  },
  {
   "cell_type": "code",
   "execution_count": null,
   "id": "97cfcbd5",
   "metadata": {},
   "outputs": [],
   "source": [
    "# Is our television ad driving more sales?\n",
    "#has sales incrreases since ads reeleased or have sales increased due to price reduction "
   ]
  },
  {
   "cell_type": "code",
   "execution_count": 7,
   "id": "03f73cce",
   "metadata": {},
   "outputs": [],
   "source": [
    "import numpy as np\n",
    "import seaborn as sns\n",
    "import scipy.stats as stats\n",
    "import pandas as pd\n",
    "import matplotlib.pyplot as plt\n",
    "import env\n",
    "\n",
    "np.random.seed(123)\n"
   ]
  },
  {
   "cell_type": "code",
   "execution_count": 2,
   "id": "16f1a08c",
   "metadata": {},
   "outputs": [
    {
     "data": {
      "text/plain": [
       "array([[6, 3, 5, 3, 2, 4, 3, 4, 2, 2],\n",
       "       [1, 2, 2, 1, 1, 2, 4, 6, 5, 1],\n",
       "       [1, 5, 2, 4, 3, 5, 3, 5, 1, 6],\n",
       "       [1, 2, 4, 5, 5, 5, 2, 6, 4, 3]])"
      ]
     },
     "execution_count": 2,
     "metadata": {},
     "output_type": "execute_result"
    }
   ],
   "source": [
    "n_dice_per_experiment = ncols = 10\n",
    "n_experiments = nrows = 100\n",
    "\n",
    "data = np.random.randint(1, 7, (nrows, ncols))\n",
    "\n",
    "data[:4]"
   ]
  },
  {
   "cell_type": "code",
   "execution_count": 3,
   "id": "c907b44e",
   "metadata": {},
   "outputs": [
    {
     "data": {
      "text/plain": [
       "array([3.4, 2.5, 3.5, 3.7, 3.2, 4.7, 3.4, 3.2, 3.4, 3. , 3.7, 3.5, 4. ,\n",
       "       4.5, 2.9, 2.8, 2.9, 3.8, 3.2, 3.6, 3.4, 4. , 3.5, 3.3, 3.6, 3. ,\n",
       "       4.3, 3. , 3.3, 3.2, 4.2, 3.9, 3.2, 3.8, 3.6, 3.4, 2.7, 3.4, 3.2,\n",
       "       3.1, 3.2, 3. , 4.1, 3.3, 3. , 4.1, 3.4, 3.3, 2.9, 3.8, 3.4, 3.6,\n",
       "       3.9, 3.2, 4.7, 3.8, 3.5, 2.8, 3.8, 4.7, 4.1, 3.5, 2.8, 3.7, 3.4,\n",
       "       3.7, 3.6, 4.1, 3.6, 3.5, 2.9, 4. , 3.2, 3.4, 4.4, 2.9, 3.2, 3.9,\n",
       "       1.9, 3. , 3. , 3.5, 3.3, 4.4, 3.4, 4.2, 4.1, 3.2, 3.5, 3.5, 3.8,\n",
       "       3.1, 3.6, 2.9, 2.9, 4. , 3.3, 3.1, 3.4, 3.6])"
      ]
     },
     "execution_count": 3,
     "metadata": {},
     "output_type": "execute_result"
    }
   ],
   "source": [
    "calculated_averages = data.mean(axis=1)\n",
    "calculated_averages\n"
   ]
  },
  {
   "cell_type": "code",
   "execution_count": 5,
   "id": "1cfbc21d",
   "metadata": {},
   "outputs": [
    {
     "data": {
      "image/png": "[encoded data removed]",
      "text/plain": [
       "<Figure size 432x288 with 1 Axes>"
      ]
     },
     "metadata": {
      "needs_background": "light"
     },
     "output_type": "display_data"
    }
   ],
   "source": [
    "plt.hist(calculated_averages)\n",
    "plt.xlabel(f'Average of {n_dice_per_experiment} dice rolls')\n",
    "plt.ylabel('# of Occurances')\n",
    "plt.title(f'Outcome of averaging {n_dice_per_experiment} dice rolls {n_experiments} times')\n",
    "plt.show()\n"
   ]
  },
  {
   "cell_type": "code",
   "execution_count": 8,
   "id": "39f03899",
   "metadata": {},
   "outputs": [],
   "source": [
    "db_url = f'mysql+pymysql://{env.user}:{env.password}@{env.host}/telco_churn'\n",
    "df = pd.read_sql('SELECT * FROM customers', db_url)  "
   ]
  },
  {
   "cell_type": "code",
   "execution_count": 9,
   "id": "0e9a9397",
   "metadata": {},
   "outputs": [
    {
     "data": {
      "text/plain": [
       "Index(['customer_id', 'gender', 'senior_citizen', 'partner', 'dependents',\n",
       "       'tenure', 'phone_service', 'multiple_lines', 'internet_service_type_id',\n",
       "       'online_security', 'online_backup', 'device_protection', 'tech_support',\n",
       "       'streaming_tv', 'streaming_movies', 'contract_type_id',\n",
       "       'paperless_billing', 'payment_type_id', 'monthly_charges',\n",
       "       'total_charges', 'churn'],\n",
       "      dtype='object')"
      ]
     },
     "execution_count": 9,
     "metadata": {},
     "output_type": "execute_result"
    }
   ],
   "source": [
    "df.columns\n"
   ]
  },
  {
   "cell_type": "code",
   "execution_count": 10,
   "id": "0d979c96",
   "metadata": {},
   "outputs": [
    {
     "data": {
      "image/png": "[encoded data removed]",
      "text/plain": [
       "<Figure size 432x288 with 1 Axes>"
      ]
     },
     "metadata": {
      "needs_background": "light"
     },
     "output_type": "display_data"
    }
   ],
   "source": [
    "df.monthly_charges.hist()\n",
    "plt.show()"
   ]
  },
  {
   "cell_type": "code",
   "execution_count": 12,
   "id": "85d5d968",
   "metadata": {},
   "outputs": [
    {
     "data": {
      "image/png": "[encoded data removed]",
      "text/plain": [
       "<Figure size 432x288 with 1 Axes>"
      ]
     },
     "metadata": {
      "needs_background": "light"
     },
     "output_type": "display_data"
    }
   ],
   "source": [
    "churn_sample = df[df.churn == 'Yes'].monthly_charges\n",
    "\n",
    "churn_sample.hist()\n",
    "plt.show()"
   ]
  },
  {
   "cell_type": "code",
   "execution_count": 13,
   "id": "b9d4c2e4",
   "metadata": {},
   "outputs": [
    {
     "data": {
      "text/plain": [
       "No     5174\n",
       "Yes    1869\n",
       "Name: churn, dtype: int64"
      ]
     },
     "execution_count": 13,
     "metadata": {},
     "output_type": "execute_result"
    }
   ],
   "source": [
    "α = .05\n",
    "df.churn.value_counts()\n"
   ]
  },
  {
   "cell_type": "code",
   "execution_count": 14,
   "id": "fa527739",
   "metadata": {},
   "outputs": [
    {
     "name": "stdout",
     "output_type": "stream",
     "text": [
      "16.96540308050567 1.8703196496911995e-60 0.05\n"
     ]
    }
   ],
   "source": [
    "churn_sample = df[df.churn == 'Yes'].monthly_charges\n",
    "overall_mean = df.monthly_charges.mean()\n",
    "\n",
    "t, p = stats.ttest_1samp(churn_sample, overall_mean)\n",
    "\n",
    "print(t, p/2, α)\n"
   ]
  },
  {
   "cell_type": "code",
   "execution_count": 59,
   "id": "d21c646d",
   "metadata": {},
   "outputs": [
    {
     "ename": "SyntaxError",
     "evalue": "invalid syntax (3886440910.py, line 1)",
     "output_type": "error",
     "traceback": [
      "\u001b[0;36m  Input \u001b[0;32mIn [59]\u001b[0;36m\u001b[0m\n\u001b[0;31m    ${H0: Mean of monthly charges of churned customers <= Mean of monthly charges of all customers}$\u001b[0m\n\u001b[0m    ^\u001b[0m\n\u001b[0;31mSyntaxError\u001b[0m\u001b[0;31m:\u001b[0m invalid syntax\n"
     ]
    }
   ],
   "source": [
    "${H0: Mean of monthly charges of churned customers <= Mean of monthly charges of all customers}$\n",
    "$Ha: Mean of monthly charges of churned customers > Mean of monthly charges of all customers$"
   ]
  },
  {
   "cell_type": "code",
   "execution_count": 16,
   "id": "14072097",
   "metadata": {},
   "outputs": [
    {
     "name": "stdout",
     "output_type": "stream",
     "text": [
      "We reject $H_{0}$\n"
     ]
    }
   ],
   "source": [
    "if p/2 > α:\n",
    "    print(\"We fail to reject $H_{0}$\")\n",
    "elif t < 0:\n",
    "    print(\"We fail to reject $H_{0}$\")\n",
    "else:\n",
    "    print(\"We reject $H_{0}$\")\n"
   ]
  },
  {
   "cell_type": "code",
   "execution_count": 19,
   "id": "9f9958a3",
   "metadata": {},
   "outputs": [
    {
     "data": {
      "text/plain": [
       "(16.96540308050567, 3.740639299382399e-60)"
      ]
     },
     "execution_count": 19,
     "metadata": {},
     "output_type": "execute_result"
    }
   ],
   "source": [
    "t, p = stats.ttest_1samp(churn_sample, overall_mean)\n",
    "t, p\n"
   ]
  },
  {
   "cell_type": "code",
   "execution_count": 21,
   "id": "8ac4817c",
   "metadata": {},
   "outputs": [
    {
     "name": "stdout",
     "output_type": "stream",
     "text": [
      "False\n",
      "True\n"
     ]
    }
   ],
   "source": [
    "print(t < 0)\n",
    "print(p/2 < α)\n"
   ]
  },
  {
   "cell_type": "code",
   "execution_count": 23,
   "id": "8219680c",
   "metadata": {},
   "outputs": [
    {
     "data": {
      "image/png": "[encoded data removed]",
      "text/plain": [
       "<Figure size 432x288 with 1 Axes>"
      ]
     },
     "metadata": {
      "needs_background": "light"
     },
     "output_type": "display_data"
    }
   ],
   "source": [
    "churn_sample = df[df.churn == 'Yes'].monthly_charges\n",
    "\n",
    "churn_sample.hist()\n",
    "plt.show()"
   ]
  },
  {
   "cell_type": "code",
   "execution_count": 24,
   "id": "1f7c8915",
   "metadata": {},
   "outputs": [
    {
     "data": {
      "image/png": "[encoded data removed]",
      "text/plain": [
       "<Figure size 432x288 with 1 Axes>"
      ]
     },
     "metadata": {
      "needs_background": "light"
     },
     "output_type": "display_data"
    }
   ],
   "source": [
    "no_churn_sample = df[df.churn == 'No'].monthly_charges\n",
    "\n",
    "no_churn_sample.hist()\n",
    "plt.show()"
   ]
  },
  {
   "cell_type": "code",
   "execution_count": 33,
   "id": "7691d768",
   "metadata": {},
   "outputs": [
    {
     "name": "stdout",
     "output_type": "stream",
     "text": [
      "608.4141833954315\n",
      "966.7527670734293\n"
     ]
    }
   ],
   "source": [
    "print(churn_sample.var())\n",
    "print(no_churn_sample.var())\n"
   ]
  },
  {
   "cell_type": "code",
   "execution_count": 26,
   "id": "25a9a0ba",
   "metadata": {},
   "outputs": [
    {
     "data": {
      "text/plain": [
       "(18.407526676414673, 4.2962246657737696e-73)"
      ]
     },
     "execution_count": 26,
     "metadata": {},
     "output_type": "execute_result"
    }
   ],
   "source": [
    "t, p = stats.ttest_ind(churn_sample, no_churn_sample, equal_var=False)\n",
    "t, p / 2\n"
   ]
  },
  {
   "cell_type": "code",
   "execution_count": 27,
   "id": "8d3d18ec",
   "metadata": {},
   "outputs": [
    {
     "name": "stdout",
     "output_type": "stream",
     "text": [
      "is p/2 < α?  True\n",
      "is t > 0?  True\n"
     ]
    }
   ],
   "source": [
    "print(\"is p/2 < α? \", p / 2 < α)\n",
    "print(\"is t > 0? \", t > 0)\n"
   ]
  },
  {
   "cell_type": "code",
   "execution_count": 28,
   "id": "b0e66e64",
   "metadata": {},
   "outputs": [
    {
     "name": "stdout",
     "output_type": "stream",
     "text": [
      "We reject $H_{0}$\n"
     ]
    }
   ],
   "source": [
    "if p / 2 > α:\n",
    "    print(\"We fail to reject $H_{0}$\")\n",
    "elif t < 0:\n",
    "    print(\"We fail to reject $H_{0}$\")\n",
    "else:\n",
    "    print(\"We reject $H_{0}$\")\n"
   ]
  },
  {
   "cell_type": "code",
   "execution_count": 29,
   "id": "8abd662a",
   "metadata": {},
   "outputs": [
    {
     "data": {
      "text/plain": [
       "(18.407526676414673, 8.592449331547539e-73)"
      ]
     },
     "execution_count": 29,
     "metadata": {},
     "output_type": "execute_result"
    }
   ],
   "source": [
    "t, p = stats.ttest_ind(churn_sample, no_churn_sample, equal_var=False)\n",
    "\n",
    "t, p\n"
   ]
  },
  {
   "cell_type": "code",
   "execution_count": 30,
   "id": "7161fadc",
   "metadata": {},
   "outputs": [
    {
     "name": "stdout",
     "output_type": "stream",
     "text": [
      "Reject $H_{0}$?  True\n"
     ]
    }
   ],
   "source": [
    "print(\"Reject $H_{0}$? \", p < α)\n"
   ]
  },
  {
   "cell_type": "code",
   "execution_count": 32,
   "id": "a3a93c29",
   "metadata": {},
   "outputs": [
    {
     "data": {
      "text/plain": [
       "setosa        50\n",
       "versicolor    50\n",
       "virginica     50\n",
       "Name: species, dtype: int64"
      ]
     },
     "execution_count": 32,
     "metadata": {},
     "output_type": "execute_result"
    }
   ],
   "source": [
    "df = sns.load_dataset('iris')\n",
    "df.species.value_counts()\n"
   ]
  },
  {
   "cell_type": "code",
   "execution_count": 34,
   "id": "5e06f6e1",
   "metadata": {},
   "outputs": [
    {
     "data": {
      "text/plain": [
       "count    150.000000\n",
       "mean       5.843333\n",
       "std        0.828066\n",
       "min        4.300000\n",
       "25%        5.100000\n",
       "50%        5.800000\n",
       "75%        6.400000\n",
       "max        7.900000\n",
       "Name: sepal_length, dtype: float64"
      ]
     },
     "execution_count": 34,
     "metadata": {},
     "output_type": "execute_result"
    }
   ],
   "source": [
    "df.sepal_length.describe()\n"
   ]
  },
  {
   "cell_type": "code",
   "execution_count": 35,
   "id": "691e5cad",
   "metadata": {},
   "outputs": [],
   "source": [
    "versicolor_sepal_length = df[df.species == 'versicolor'].sepal_length\n",
    "virginica_sepal_length = df[df.species == 'virginica'].sepal_length\n",
    "setosa_sepal_length = df[df.species == 'setosa'].sepal_length\n"
   ]
  },
  {
   "cell_type": "code",
   "execution_count": 36,
   "id": "5d9f86ae",
   "metadata": {},
   "outputs": [
    {
     "data": {
      "image/png": "[encoded data removed]",
      "text/plain": [
       "<Figure size 432x288 with 1 Axes>"
      ]
     },
     "metadata": {
      "needs_background": "light"
     },
     "output_type": "display_data"
    }
   ],
   "source": [
    "versicolor_sepal_length.hist()\n",
    "plt.show()"
   ]
  },
  {
   "cell_type": "code",
   "execution_count": 37,
   "id": "149854d6",
   "metadata": {},
   "outputs": [
    {
     "data": {
      "image/png": "[encoded data removed]",
      "text/plain": [
       "<Figure size 432x288 with 1 Axes>"
      ]
     },
     "metadata": {
      "needs_background": "light"
     },
     "output_type": "display_data"
    }
   ],
   "source": [
    "virginica_sepal_length.hist()\n",
    "plt.show()"
   ]
  },
  {
   "cell_type": "code",
   "execution_count": 38,
   "id": "5a180b63",
   "metadata": {},
   "outputs": [
    {
     "data": {
      "image/png": "[encoded data removed]",
      "text/plain": [
       "<Figure size 432x288 with 1 Axes>"
      ]
     },
     "metadata": {
      "needs_background": "light"
     },
     "output_type": "display_data"
    }
   ],
   "source": [
    "setosa_sepal_length.hist()\n",
    "plt.show()"
   ]
  },
  {
   "cell_type": "code",
   "execution_count": 39,
   "id": "be4b3289",
   "metadata": {},
   "outputs": [
    {
     "name": "stdout",
     "output_type": "stream",
     "text": [
      "0.2664326530612246\n",
      "0.40434285714285706\n",
      "0.12424897959183666\n"
     ]
    }
   ],
   "source": [
    "print(versicolor_sepal_length.var())\n",
    "print(virginica_sepal_length.var())\n",
    "print(setosa_sepal_length.var())\n"
   ]
  },
  {
   "cell_type": "code",
   "execution_count": 40,
   "id": "6172a708",
   "metadata": {},
   "outputs": [
    {
     "data": {
      "text/plain": [
       "(119.26450218450472, 1.6696691907693648e-31)"
      ]
     },
     "execution_count": 40,
     "metadata": {},
     "output_type": "execute_result"
    }
   ],
   "source": [
    "f, p = stats.f_oneway(versicolor_sepal_length, virginica_sepal_length, setosa_sepal_length)\n",
    "f, p\n"
   ]
  },
  {
   "cell_type": "code",
   "execution_count": 41,
   "id": "bca10081",
   "metadata": {},
   "outputs": [
    {
     "name": "stdout",
     "output_type": "stream",
     "text": [
      "We reject $H_{0}$\n"
     ]
    }
   ],
   "source": [
    "if p < α:\n",
    "    print(\"We reject $H_{0}$\")\n",
    "else:\n",
    "    print(\"We fail to reject $H_{0}$\")\n"
   ]
  },
  {
   "cell_type": "code",
   "execution_count": 42,
   "id": "0855e094",
   "metadata": {},
   "outputs": [
    {
     "data": {
      "text/plain": [
       "usa       249\n",
       "japan      79\n",
       "europe     70\n",
       "Name: origin, dtype: int64"
      ]
     },
     "execution_count": 42,
     "metadata": {},
     "output_type": "execute_result"
    }
   ],
   "source": [
    "df = sns.load_dataset('mpg')\n",
    "df.origin.value_counts()\n"
   ]
  },
  {
   "cell_type": "code",
   "execution_count": 43,
   "id": "db6ca029",
   "metadata": {},
   "outputs": [
    {
     "name": "stdout",
     "output_type": "stream",
     "text": [
      "<class 'pandas.core.frame.DataFrame'>\n",
      "RangeIndex: 398 entries, 0 to 397\n",
      "Data columns (total 9 columns):\n",
      " #   Column        Non-Null Count  Dtype  \n",
      "---  ------        --------------  -----  \n",
      " 0   mpg           398 non-null    float64\n",
      " 1   cylinders     398 non-null    int64  \n",
      " 2   displacement  398 non-null    float64\n",
      " 3   horsepower    392 non-null    float64\n",
      " 4   weight        398 non-null    int64  \n",
      " 5   acceleration  398 non-null    float64\n",
      " 6   model_year    398 non-null    int64  \n",
      " 7   origin        398 non-null    object \n",
      " 8   name          398 non-null    object \n",
      "dtypes: float64(4), int64(3), object(2)\n",
      "memory usage: 28.1+ KB\n"
     ]
    }
   ],
   "source": [
    "df.head()\n",
    "df.info()\n"
   ]
  },
  {
   "cell_type": "code",
   "execution_count": 44,
   "id": "79fa1ca0",
   "metadata": {},
   "outputs": [],
   "source": [
    "df = df[~df['horsepower'].isna()]\n"
   ]
  },
  {
   "cell_type": "code",
   "execution_count": 45,
   "id": "49f245fa",
   "metadata": {},
   "outputs": [],
   "source": [
    "usa_hp = df[df.origin == 'usa'].horsepower\n",
    "japan_hp = df[df.origin == 'japan'].horsepower\n",
    "eu_hp = df[df.origin == 'europe'].horsepower\n"
   ]
  },
  {
   "cell_type": "code",
   "execution_count": 46,
   "id": "b1efc3e9",
   "metadata": {},
   "outputs": [
    {
     "data": {
      "image/png": "[encoded data removed]",
      "text/plain": [
       "<Figure size 432x288 with 1 Axes>"
      ]
     },
     "metadata": {
      "needs_background": "light"
     },
     "output_type": "display_data"
    }
   ],
   "source": [
    "usa_hp.hist()\n",
    "plt.show()"
   ]
  },
  {
   "cell_type": "code",
   "execution_count": 47,
   "id": "93dd2429",
   "metadata": {},
   "outputs": [
    {
     "data": {
      "image/png": "[encoded data removed]",
      "text/plain": [
       "<Figure size 432x288 with 1 Axes>"
      ]
     },
     "metadata": {
      "needs_background": "light"
     },
     "output_type": "display_data"
    }
   ],
   "source": [
    "japan_hp.hist()\n",
    "plt.show()"
   ]
  },
  {
   "cell_type": "code",
   "execution_count": 48,
   "id": "448c687d",
   "metadata": {},
   "outputs": [
    {
     "data": {
      "image/png": "[encoded data removed]",
      "text/plain": [
       "<Figure size 432x288 with 1 Axes>"
      ]
     },
     "metadata": {
      "needs_background": "light"
     },
     "output_type": "display_data"
    }
   ],
   "source": [
    "eu_hp.hist()\n",
    "plt.show()"
   ]
  },
  {
   "cell_type": "code",
   "execution_count": 49,
   "id": "3c1caf82",
   "metadata": {},
   "outputs": [
    {
     "data": {
      "text/plain": [
       "1591.8336567413864"
      ]
     },
     "execution_count": 49,
     "metadata": {},
     "output_type": "execute_result"
    }
   ],
   "source": [
    "usa_hp.var()\n"
   ]
  },
  {
   "cell_type": "code",
   "execution_count": 50,
   "id": "1e0f7679",
   "metadata": {},
   "outputs": [
    {
     "data": {
      "text/plain": [
       "317.5238558909445"
      ]
     },
     "execution_count": 50,
     "metadata": {},
     "output_type": "execute_result"
    }
   ],
   "source": [
    "japan_hp.var()\n"
   ]
  },
  {
   "cell_type": "code",
   "execution_count": 51,
   "id": "f21fea63",
   "metadata": {},
   "outputs": [
    {
     "data": {
      "text/plain": [
       "406.3397717295875"
      ]
     },
     "execution_count": 51,
     "metadata": {},
     "output_type": "execute_result"
    }
   ],
   "source": [
    "eu_hp.var()\n"
   ]
  },
  {
   "cell_type": "code",
   "execution_count": 52,
   "id": "cf14eace",
   "metadata": {},
   "outputs": [],
   "source": [
    "usa_hp = df[df.origin == 'usa'].horsepower\n",
    "non_usa_hp = df[df.origin != 'usa'].horsepower\n"
   ]
  },
  {
   "cell_type": "code",
   "execution_count": 53,
   "id": "78ebacfc",
   "metadata": {},
   "outputs": [
    {
     "name": "stdout",
     "output_type": "stream",
     "text": [
      "1591.8336567413864\n",
      "356.2380020501352\n"
     ]
    }
   ],
   "source": [
    "print(usa_hp.var())\n",
    "print(non_usa_hp.var())\n"
   ]
  },
  {
   "cell_type": "code",
   "execution_count": 54,
   "id": "8cca4acf",
   "metadata": {},
   "outputs": [
    {
     "data": {
      "text/plain": [
       "(13.017135027378012, 3.384733024288272e-32)"
      ]
     },
     "execution_count": 54,
     "metadata": {},
     "output_type": "execute_result"
    }
   ],
   "source": [
    "t, p = stats.ttest_ind(usa_hp, non_usa_hp, equal_var=False)\n",
    "t, p\n"
   ]
  },
  {
   "cell_type": "code",
   "execution_count": 56,
   "id": "71b2f849",
   "metadata": {},
   "outputs": [
    {
     "data": {
      "text/plain": [
       "True"
      ]
     },
     "execution_count": 56,
     "metadata": {},
     "output_type": "execute_result"
    }
   ],
   "source": [
    "p < α\n"
   ]
  },
  {
   "cell_type": "code",
   "execution_count": 57,
   "id": "24fe8fb2",
   "metadata": {},
   "outputs": [
    {
     "data": {
      "text/plain": [
       "KruskalResult(statistic=105.59475799843663, pvalue=1.1759521262123952e-23)"
      ]
     },
     "execution_count": 57,
     "metadata": {},
     "output_type": "execute_result"
    }
   ],
   "source": [
    "stats.kruskal(usa_hp, japan_hp, eu_hp)\n"
   ]
  },
  {
   "cell_type": "code",
   "execution_count": null,
   "id": "487970b4",
   "metadata": {},
   "outputs": [],
   "source": [
    "# Ace Realty wants to determine whether the average time it takes to sell \n",
    "# homes is different for its two offices. A sample of 40 sales from office\n",
    "# #1 revealed a mean of 90 days and a standard deviation of 15 days. \n",
    "# A sample of 50 sales from office \n",
    "# #2 revealed a mean of 100 days and a standard deviation of 20 days. \n",
    "# Use a .05 level of significance.\n",
    "\n",
    "o1ss=40\n",
    "o1= 90\n",
    "o1s=15\n",
    "o2ss=50\n",
    "o2=100\n",
    "o2s=20\n"
   ]
  },
  {
   "cell_type": "code",
   "execution_count": 80,
   "id": "7a124e41",
   "metadata": {},
   "outputs": [
    {
     "name": "stdout",
     "output_type": "stream",
     "text": [
      "<class 'pandas.core.frame.DataFrame'>\n",
      "RangeIndex: 398 entries, 0 to 397\n",
      "Data columns (total 9 columns):\n",
      " #   Column        Non-Null Count  Dtype  \n",
      "---  ------        --------------  -----  \n",
      " 0   mpg           398 non-null    float64\n",
      " 1   cylinders     398 non-null    int64  \n",
      " 2   displacement  398 non-null    float64\n",
      " 3   horsepower    392 non-null    float64\n",
      " 4   weight        398 non-null    int64  \n",
      " 5   acceleration  398 non-null    float64\n",
      " 6   model_year    398 non-null    int64  \n",
      " 7   origin        398 non-null    object \n",
      " 8   name          398 non-null    object \n",
      "dtypes: float64(4), int64(3), object(2)\n",
      "memory usage: 28.1+ KB\n"
     ]
    }
   ],
   "source": [
    "df.head()\n",
    "df.info()"
   ]
  },
  {
   "cell_type": "code",
   "execution_count": 124,
   "id": "1b46325e",
   "metadata": {},
   "outputs": [],
   "source": [
    "# Is there a difference in fuel-efficiency in cars from 2008 vs 1999?\n",
    "\n",
    "from pydataset import data\n",
    "df = pd.DataFrame(data('mpg'))\n",
    "df['ampg'] = df.cty + df.hwy/2"
   ]
  },
  {
   "cell_type": "code",
   "execution_count": 125,
   "id": "92680766",
   "metadata": {},
   "outputs": [],
   "source": [
    "c2008_my = df[df.year == 2008].ampg\n",
    "c1999_my = df[df.year == 1999].ampg"
   ]
  },
  {
   "cell_type": "code",
   "execution_count": 126,
   "id": "934cad6f",
   "metadata": {},
   "outputs": [
    {
     "name": "stdout",
     "output_type": "stream",
     "text": [
      "<class 'pandas.core.frame.DataFrame'>\n",
      "Int64Index: 234 entries, 1 to 234\n",
      "Data columns (total 12 columns):\n",
      " #   Column        Non-Null Count  Dtype  \n",
      "---  ------        --------------  -----  \n",
      " 0   manufacturer  234 non-null    object \n",
      " 1   model         234 non-null    object \n",
      " 2   displ         234 non-null    float64\n",
      " 3   year          234 non-null    int64  \n",
      " 4   cyl           234 non-null    int64  \n",
      " 5   trans         234 non-null    object \n",
      " 6   drv           234 non-null    object \n",
      " 7   cty           234 non-null    int64  \n",
      " 8   hwy           234 non-null    int64  \n",
      " 9   fl            234 non-null    object \n",
      " 10  class         234 non-null    object \n",
      " 11  ampg          234 non-null    float64\n",
      "dtypes: float64(2), int64(4), object(6)\n",
      "memory usage: 23.8+ KB\n"
     ]
    }
   ],
   "source": [
    "df.head()\n",
    "df.info()"
   ]
  },
  {
   "cell_type": "code",
   "execution_count": 127,
   "id": "ff942990",
   "metadata": {},
   "outputs": [
    {
     "data": {
      "text/plain": [
       "<AxesSubplot:>"
      ]
     },
     "execution_count": 127,
     "metadata": {},
     "output_type": "execute_result"
    },
    {
     "data": {
      "image/png": "[encoded data removed]",
      "text/plain": [
       "<Figure size 432x288 with 1 Axes>"
      ]
     },
     "metadata": {
      "needs_background": "light"
     },
     "output_type": "display_data"
    }
   ],
   "source": [
    "c2008_my.hist()\n"
   ]
  },
  {
   "cell_type": "code",
   "execution_count": 128,
   "id": "8295a5d4",
   "metadata": {},
   "outputs": [
    {
     "data": {
      "text/plain": [
       "<AxesSubplot:>"
      ]
     },
     "execution_count": 128,
     "metadata": {},
     "output_type": "execute_result"
    },
    {
     "data": {
      "image/png": "[encoded data removed]",
      "text/plain": [
       "<Figure size 432x288 with 1 Axes>"
      ]
     },
     "metadata": {
      "needs_background": "light"
     },
     "output_type": "display_data"
    }
   ],
   "source": [
    "c1999_my.hist()\n"
   ]
  },
  {
   "cell_type": "code",
   "execution_count": 154,
   "id": "03d2b1f4",
   "metadata": {},
   "outputs": [
    {
     "data": {
      "text/plain": [
       "array(['compact', 'midsize', 'suv', '2seater', 'minivan', 'pickup',\n",
       "       'subcompact'], dtype=object)"
      ]
     },
     "execution_count": 154,
     "metadata": {},
     "output_type": "execute_result"
    }
   ],
   "source": [
    "df.rename(columns = {'class':'ctype'}, inplace = True)\n",
    "\n",
    "\n",
    "pd.unique(df.ctype)"
   ]
  },
  {
   "cell_type": "code",
   "execution_count": 130,
   "id": "bc615055",
   "metadata": {},
   "outputs": [
    {
     "data": {
      "text/plain": [
       "54.9290450928382"
      ]
     },
     "execution_count": 130,
     "metadata": {},
     "output_type": "execute_result"
    }
   ],
   "source": [
    "c1999_my.var()\n"
   ]
  },
  {
   "cell_type": "code",
   "execution_count": 131,
   "id": "8c5f6773",
   "metadata": {},
   "outputs": [
    {
     "data": {
      "text/plain": [
       "47.87183171234894"
      ]
     },
     "execution_count": 131,
     "metadata": {},
     "output_type": "execute_result"
    }
   ],
   "source": [
    "c2008_my.var()"
   ]
  },
  {
   "cell_type": "code",
   "execution_count": 132,
   "id": "9727a6e3",
   "metadata": {},
   "outputs": [
    {
     "data": {
      "text/plain": [
       "(-0.3236957615075299, 0.7464613597643072)"
      ]
     },
     "execution_count": 132,
     "metadata": {},
     "output_type": "execute_result"
    }
   ],
   "source": [
    "t, p = stats.ttest_ind(c2008_my, c1999_my, equal_var=False)\n",
    "t, p\n"
   ]
  },
  {
   "cell_type": "code",
   "execution_count": 133,
   "id": "97424108",
   "metadata": {},
   "outputs": [
    {
     "data": {
      "text/plain": [
       "False"
      ]
     },
     "execution_count": 133,
     "metadata": {},
     "output_type": "execute_result"
    }
   ],
   "source": [
    "p < α\n"
   ]
  },
  {
   "cell_type": "code",
   "execution_count": 155,
   "id": "f089a3ab",
   "metadata": {},
   "outputs": [],
   "source": [
    "# Are compact cars more fuel-efficient than the average car?\n",
    "average_mpg = df[df.ctype == 'midsize'].ampg\n",
    "comp_mpg = df[df.ctype == 'compact'].ampg\n",
    "\n",
    "# Do manual cars get better gas mileage than automatic cars?"
   ]
  },
  {
   "cell_type": "code",
   "execution_count": 156,
   "id": "f4c23290",
   "metadata": {},
   "outputs": [
    {
     "data": {
      "text/plain": [
       "(2.1224944799623238, 0.037152598005748806)"
      ]
     },
     "execution_count": 156,
     "metadata": {},
     "output_type": "execute_result"
    }
   ],
   "source": [
    "t2, p2 = stats.ttest_ind(comp_mpg, average_mpg, equal_var=False)\n",
    "t2, p2\n"
   ]
  },
  {
   "cell_type": "code",
   "execution_count": 157,
   "id": "dc7806d3",
   "metadata": {},
   "outputs": [
    {
     "data": {
      "text/plain": [
       "(27.041396854764116, 8.377743902439025)"
      ]
     },
     "execution_count": 157,
     "metadata": {},
     "output_type": "execute_result"
    }
   ],
   "source": [
    "comp_mpg.var(),average_mpg.var()"
   ]
  },
  {
   "cell_type": "code",
   "execution_count": 158,
   "id": "5115dfce",
   "metadata": {},
   "outputs": [
    {
     "name": "stdout",
     "output_type": "stream",
     "text": [
      "we can reject the H0\n"
     ]
    }
   ],
   "source": [
    "stat, p_levene = stats.levene(comp_mpg, average_mpg)\n",
    "if p_levene < 0.05:\n",
    "    print('we can reject the H0')\n",
    "else:\n",
    "    print('we cannot reject the H0')"
   ]
  },
  {
   "cell_type": "code",
   "execution_count": 164,
   "id": "9217a554",
   "metadata": {},
   "outputs": [
    {
     "data": {
      "text/plain": [
       "array(['auto(l5)', 'manual(m5)', 'manual(m6)', 'auto(av)', 'auto(s6)',\n",
       "       'auto(l4)', 'auto(l3)', 'auto(l6)', 'auto(s5)', 'auto(s4)'],\n",
       "      dtype=object)"
      ]
     },
     "execution_count": 164,
     "metadata": {},
     "output_type": "execute_result"
    }
   ],
   "source": [
    "pd.unique(df.trans)"
   ]
  },
  {
   "cell_type": "code",
   "execution_count": 160,
   "id": "e4a0bc87",
   "metadata": {},
   "outputs": [
    {
     "name": "stdout",
     "output_type": "stream",
     "text": [
      "<class 'pandas.core.frame.DataFrame'>\n",
      "Int64Index: 234 entries, 1 to 234\n",
      "Data columns (total 12 columns):\n",
      " #   Column        Non-Null Count  Dtype  \n",
      "---  ------        --------------  -----  \n",
      " 0   manufacturer  234 non-null    object \n",
      " 1   model         234 non-null    object \n",
      " 2   displ         234 non-null    float64\n",
      " 3   year          234 non-null    int64  \n",
      " 4   cyl           234 non-null    int64  \n",
      " 5   trans         234 non-null    object \n",
      " 6   drv           234 non-null    object \n",
      " 7   cty           234 non-null    int64  \n",
      " 8   hwy           234 non-null    int64  \n",
      " 9   fl            234 non-null    object \n",
      " 10  ctype         234 non-null    object \n",
      " 11  ampg          234 non-null    float64\n",
      "dtypes: float64(2), int64(4), object(6)\n",
      "memory usage: 23.8+ KB\n"
     ]
    }
   ],
   "source": [
    "df.head()\n",
    "df.info()"
   ]
  },
  {
   "cell_type": "code",
   "execution_count": 178,
   "id": "be9b1247",
   "metadata": {
    "scrolled": true
   },
   "outputs": [],
   "source": [
    "# Do manual cars get better gas mileage than automatic cars?\n",
    "manual_mpg = df[df['trans'].str.contains('manual')].ampg\n",
    "auto_mpg = df[df['trans'].str.contains('auto')].ampg"
   ]
  },
  {
   "cell_type": "code",
   "execution_count": 187,
   "id": "5732afa6",
   "metadata": {},
   "outputs": [
    {
     "data": {
      "text/plain": [
       "False"
      ]
     },
     "execution_count": 187,
     "metadata": {},
     "output_type": "execute_result"
    }
   ],
   "source": [
    "#t3, p3 = stats.ttest_ind(manual_mpg, average_mpg, equal_var=False)\n",
    "t3, p3 = stats.levene(manual_mpg, average_mpg)\n",
    "\n",
    "t3< p3\n"
   ]
  },
  {
   "cell_type": "code",
   "execution_count": 186,
   "id": "043e43db",
   "metadata": {},
   "outputs": [
    {
     "data": {
      "text/plain": [
       "<AxesSubplot:>"
      ]
     },
     "execution_count": 186,
     "metadata": {},
     "output_type": "execute_result"
    },
    {
     "data": {
      "image/png": "[encoded data removed]",
      "text/plain": [
       "<Figure size 432x288 with 1 Axes>"
      ]
     },
     "metadata": {
      "needs_background": "light"
     },
     "output_type": "display_data"
    }
   ],
   "source": [
    "manual_mpg.hist() "
   ]
  },
  {
   "cell_type": "code",
   "execution_count": 184,
   "id": "b0223d88",
   "metadata": {},
   "outputs": [
    {
     "data": {
      "text/plain": [
       "<AxesSubplot:>"
      ]
     },
     "execution_count": 184,
     "metadata": {},
     "output_type": "execute_result"
    },
    {
     "data": {
      "image/png": "[encoded data removed]",
      "text/plain": [
       "<Figure size 432x288 with 1 Axes>"
      ]
     },
     "metadata": {
      "needs_background": "light"
     },
     "output_type": "display_data"
    }
   ],
   "source": [
    "auto_mpg.hist()"
   ]
  },
  {
   "cell_type": "code",
   "execution_count": 183,
   "id": "00b66e0c",
   "metadata": {},
   "outputs": [
    {
     "name": "stdout",
     "output_type": "stream",
     "text": [
      "we cannot reject the H0\n"
     ]
    }
   ],
   "source": [
    "stat, p_levene = stats.levene(manual_mpg, auto_mpg)\n",
    "if p_levene < 0.05:\n",
    "    print('we can reject the H0')\n",
    "else:\n",
    "    print('we cannot reject the H0')"
   ]
  },
  {
   "cell_type": "code",
   "execution_count": null,
   "id": "36a15481",
   "metadata": {},
   "outputs": [],
   "source": []
  }
 ],
 "metadata": {
  "kernelspec": {
   "display_name": "Python 3 (ipykernel)",
   "language": "python",
   "name": "python3"
  },
  "language_info": {
   "codemirror_mode": {
    "name": "ipython",
    "version": 3
   },
   "file_extension": ".py",
   "mimetype": "text/x-python",
   "name": "python",
   "nbconvert_exporter": "python",
   "pygments_lexer": "ipython3",
   "version": "3.9.12"
  }
 },
 "nbformat": 4,
 "nbformat_minor": 5
}
